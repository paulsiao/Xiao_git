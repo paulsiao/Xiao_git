{
 "cells": [
  {
   "cell_type": "code",
   "execution_count": 2,
   "metadata": {},
   "outputs": [
    {
     "name": "stdout",
     "output_type": "stream",
     "text": [
      "请输入一个年份：fdafa\n",
      "叫你输入年份！！！\n"
     ]
    }
   ],
   "source": [
    "year = input(\"请输入一个年份：\")\n",
    "\n",
    "if year.isdigit():\n",
    "    year = int(year)\n",
    "    if year % 4 == 0:\n",
    "        print(str(year) + \"是闰年！\")\n",
    "    else:\n",
    "        print(str(year) + \"不是闰年！\")\n",
    "else:\n",
    "    print(\"叫你输入年份！！！\")"
   ]
  },
  {
   "cell_type": "code",
   "execution_count": 7,
   "metadata": {},
   "outputs": [
    {
     "name": "stdout",
     "output_type": "stream",
     "text": [
      "请输入数字：10\n",
      "你输入的数字太大了\n",
      "请输入数字：10\n",
      "你输入的数字太大了\n",
      "请输入数字：4\n",
      "你输入的数字太大了\n",
      "you are out\n"
     ]
    }
   ],
   "source": [
    "import random\n",
    "\n",
    "secert = random.randint(1,10)\n",
    "\n",
    "times = 3\n",
    "while times:\n",
    "    num = input(\"请输入数字：\")\n",
    "    if num.isdigit():\n",
    "        tmp = int(num)            \n",
    "        if tmp == secert:\n",
    "            print(\"你猜对了！\")\n",
    "            break\n",
    "        elif tmp < secert:\n",
    "            print(\"你输入的太小了\")\n",
    "            times= times-1\n",
    "        else:\n",
    "            print('你输入的数字太大了')\n",
    "            times = times-1\n",
    "    else:\n",
    "        print(\"叫你输入数字！！！\")\n",
    "print(\"you are out\")"
   ]
  },
  {
   "cell_type": "markdown",
   "metadata": {},
   "source": [
    "##写一个程序，打印0-100的奇数"
   ]
  },
  {
   "cell_type": "code",
   "execution_count": 2,
   "metadata": {},
   "outputs": [
    {
     "name": "stdout",
     "output_type": "stream",
     "text": [
      "0 1 2 3 4 5 6 7 8 9 10 11 12 13 14 15 16 17 18 19 20 21 22 23 24 25 26 27 28 29 30 31 32 33 34 35 36 37 38 39 40 41 42 43 44 45 46 47 48 49 50 51 52 53 54 55 56 57 58 59 60 61 62 63 64 65 66 67 68 69 70 71 72 73 74 75 76 77 78 79 80 81 82 83 84 85 86 87 88 89 90 91 92 93 94 95 96 97 98 99 "
     ]
    }
   ],
   "source": [
    "# 奇数\n",
    "for num in range(0,100,1):\n",
    "    print(num, end=\" \")"
   ]
  },
  {
   "cell_type": "markdown",
   "metadata": {},
   "source": [
    "### 爱因斯坦曾出过一道有趣的数学题：有一个长阶梯，若每步上2阶，最后剩余1阶，如果每步上3阶，最后剩2阶，若每步上5阶，最后剩4阶，若每步上6阶，最后剩5阶，只有每步上7阶，刚好一阶不剩 \n",
    "- 编写程序求楼梯有多少阶"
   ]
  },
  {
   "cell_type": "code",
   "execution_count": 15,
   "metadata": {},
   "outputs": [
    {
     "name": "stdout",
     "output_type": "stream",
     "text": [
      "119\n",
      "329\n",
      "539\n",
      "749\n",
      "959\n",
      "循环结束\n"
     ]
    }
   ],
   "source": [
    "x = 0 \n",
    "while x < 1000:\n",
    "    if (x % 2 == 1)\\\n",
    "    and (x % 3 == 2)\\\n",
    "    and (x % 5 == 4)\\\n",
    "    and (x % 6 == 5)\\\n",
    "    and (x % 7 == 0):\n",
    "        print(x)\n",
    "        x += 1\n",
    "    else:\n",
    "        x += 1\n",
    "print(\"循环结束\")"
   ]
  },
  {
   "cell_type": "markdown",
   "metadata": {},
   "source": [
    "##设计一个验证用户密码的程序，用户只有三次机会输入错误，不过用户输入的内容包括“”则不计算在内。"
   ]
  },
  {
   "cell_type": "code",
   "execution_count": 22,
   "metadata": {},
   "outputs": [
    {
     "name": "stdout",
     "output_type": "stream",
     "text": [
      "请输入密码：da\n",
      "you're wrong,you'll get 2 chances.\n",
      "请输入密码：xiao\n",
      "ok, you're in\n",
      "you're so out\n"
     ]
    }
   ],
   "source": [
    "code = \"xiao\"\n",
    "times = 3\n",
    "while times:\n",
    "    mima = input(\"请输入密码：\")\n",
    "    if mima == code:\n",
    "        print(\"ok, you're in\")\n",
    "        break\n",
    "    else: \n",
    "        print(\"you're wrong,you'll get \" + str(times-1) + \" chances.\")\n",
    "        times = times-1\n",
    "\n"
   ]
  },
  {
   "cell_type": "markdown",
   "metadata": {},
   "source": [
    "### 编写一个程序，求100-999之间的所有水仙花数\n",
    "- 如果一个三位数等于其个位数字的立方和，则称这个数为水仙花数。例如：153= 1^3 + 5^3 +3^3,因此153就是一个水仙花数。"
   ]
  },
  {
   "cell_type": "code",
   "execution_count": 5,
   "metadata": {},
   "outputs": [
    {
     "name": "stdout",
     "output_type": "stream",
     "text": [
      "153\n",
      "370\n",
      "371\n",
      "407\n"
     ]
    }
   ],
   "source": [
    "for i in range(100, 1000):\n",
    "    #print(i, end=\"\")\n",
    "    temp = list(str(i)) \n",
    "    #print(temp, end=\"\")\n",
    "    # a，b，c出来的都是字符\n",
    "    a = int(temp[0])\n",
    "    b = int(temp[1])\n",
    "    c = int(temp[2])\n",
    "    if i == a**3 + b**3 + c**3:\n",
    "        print(i)\n",
    "    \n",
    "    "
   ]
  },
  {
   "cell_type": "markdown",
   "metadata": {},
   "source": [
    "### 三色球问题\n",
    "- 有红，黄，蓝，三种颜色的球，其中红球3个，黄球3个，绿球6个，先将这12个球混合放在一个盒子中，从中任意摸出8个球，编程计算摸出球的各种颜色搭配"
   ]
  },
  {
   "cell_type": "code",
   "execution_count": 1,
   "metadata": {},
   "outputs": [],
   "source": [
    "red_ball = 3\n",
    "yellow_ball = 3\n",
    "green_ball = 6\n",
    "times = 0\n"
   ]
  },
  {
   "cell_type": "code",
   "execution_count": 4,
   "metadata": {},
   "outputs": [
    {
     "name": "stdout",
     "output_type": "stream",
     "text": [
      "********************\n",
      "2\n",
      "red:0\n",
      "yellow2\n",
      "green6\n",
      "********************\n",
      "2\n",
      "red:0\n",
      "yellow3\n",
      "green5\n",
      "********************\n",
      "2\n",
      "red:1\n",
      "yellow1\n",
      "green6\n",
      "********************\n",
      "2\n",
      "red:1\n",
      "yellow2\n",
      "green5\n",
      "********************\n",
      "2\n",
      "red:1\n",
      "yellow3\n",
      "green4\n",
      "********************\n",
      "2\n",
      "red:2\n",
      "yellow0\n",
      "green6\n",
      "********************\n",
      "2\n",
      "red:2\n",
      "yellow1\n",
      "green5\n",
      "********************\n",
      "2\n",
      "red:2\n",
      "yellow2\n",
      "green4\n",
      "********************\n",
      "2\n",
      "red:2\n",
      "yellow3\n",
      "green3\n",
      "********************\n",
      "2\n",
      "red:3\n",
      "yellow0\n",
      "green5\n",
      "********************\n",
      "2\n",
      "red:3\n",
      "yellow1\n",
      "green4\n",
      "********************\n",
      "2\n",
      "red:3\n",
      "yellow2\n",
      "green3\n",
      "********************\n",
      "2\n",
      "red:3\n",
      "yellow3\n",
      "green2\n"
     ]
    }
   ],
   "source": [
    "for red in range(0,4):\n",
    "    for yellow in range(0,4):\n",
    "        for green in range(2,7):\n",
    "            if red + yellow + green == 8:\n",
    "                print(\"*\" * 20)\n",
    "                print(times)\n",
    "                print(\"red:{}\".format(red))\n",
    "                print(\"yellow{}\".format(yellow))\n",
    "                print(\"green{}\".format(green))\n",
    "        "
   ]
  },
  {
   "cell_type": "markdown",
   "metadata": {},
   "source": [
    "### append()和extend()和insert()"
   ]
  },
  {
   "cell_type": "code",
   "execution_count": 8,
   "metadata": {},
   "outputs": [
    {
     "name": "stdout",
     "output_type": "stream",
     "text": [
      "[1, 2, 3, 4, 5, [6, 7, 8]]\n",
      "[1, 2, 3, 4, 5, 6, 7, 8]\n",
      "[1, 2, 3, 10, 4, 5]\n"
     ]
    }
   ],
   "source": [
    "a = [1,2,3,4,5]\n",
    "a.append([6,7,8])\n",
    "print(a)\n",
    "\n",
    "b = [1,2,3,4,5]\n",
    "b.extend([6,7,8])\n",
    "print(b)\n",
    "\n",
    "c = [1,2,3,4,5]\n",
    "c.insert(3,10)\n",
    "print(c)"
   ]
  },
  {
   "cell_type": "code",
   "execution_count": 9,
   "metadata": {},
   "outputs": [
    {
     "name": "stdout",
     "output_type": "stream",
     "text": [
      "[1, [1, 2, ['周老师']], 3, 5, 8, 13, 18]\n"
     ]
    }
   ],
   "source": [
    "ls = [1, [1, 2, ['图灵学院']], 3, 5, 8, 13, 18] \n",
    "ls[1][2][0] = '周老师'\n",
    "print(ls)"
   ]
  },
  {
   "cell_type": "markdown",
   "metadata": {},
   "source": [
    "列表推导式还原出来\n",
    "ls = [(x, y) for x in range(10) for y in range(10) if x%2 == 0 and y%2 !=0:]"
   ]
  },
  {
   "cell_type": "code",
   "execution_count": 10,
   "metadata": {},
   "outputs": [
    {
     "name": "stdout",
     "output_type": "stream",
     "text": [
      "[(0, 1), (0, 3), (0, 5), (0, 7), (0, 9), (2, 1), (2, 3), (2, 5), (2, 7), (2, 9), (4, 1), (4, 3), (4, 5), (4, 7), (4, 9), (6, 1), (6, 3), (6, 5), (6, 7), (6, 9), (8, 1), (8, 3), (8, 5), (8, 7), (8, 9)]\n"
     ]
    }
   ],
   "source": [
    "ls = [(x,y) for x in range(10) for y in range(10) if x % 2 == 0 and y % 2 != 0]\n",
    "print(ls)"
   ]
  },
  {
   "cell_type": "code",
   "execution_count": 12,
   "metadata": {},
   "outputs": [
    {
     "name": "stdout",
     "output_type": "stream",
     "text": [
      "[(0, 1), (0, 3), (0, 5), (0, 7), (0, 9), (2, 1), (2, 3), (2, 5), (2, 7), (2, 9), (4, 1), (4, 3), (4, 5), (4, 7), (4, 9), (6, 1), (6, 3), (6, 5), (6, 7), (6, 9), (8, 1), (8, 3), (8, 5), (8, 7), (8, 9)]\n"
     ]
    }
   ],
   "source": [
    "ls = []\n",
    "for x in range(10):\n",
    "    for y in range(10):\n",
    "        if x % 2 == 0 and y % 2 !=0:\n",
    "            ls.append((x, y))\n",
    "print(ls)"
   ]
  },
  {
   "cell_type": "code",
   "execution_count": null,
   "metadata": {},
   "outputs": [],
   "source": []
  },
  {
   "cell_type": "code",
   "execution_count": null,
   "metadata": {},
   "outputs": [],
   "source": []
  },
  {
   "cell_type": "code",
   "execution_count": null,
   "metadata": {},
   "outputs": [],
   "source": []
  },
  {
   "cell_type": "code",
   "execution_count": null,
   "metadata": {},
   "outputs": [],
   "source": []
  }
 ],
 "metadata": {
  "kernelspec": {
   "display_name": "Python 3",
   "language": "python",
   "name": "python3"
  },
  "language_info": {
   "codemirror_mode": {
    "name": "ipython",
    "version": 3
   },
   "file_extension": ".py",
   "mimetype": "text/x-python",
   "name": "python",
   "nbconvert_exporter": "python",
   "pygments_lexer": "ipython3",
   "version": "3.7.1"
  }
 },
 "nbformat": 4,
 "nbformat_minor": 2
}
